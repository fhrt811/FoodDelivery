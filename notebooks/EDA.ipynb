{
 "cells": [
  {
   "cell_type": "code",
   "execution_count": 3,
   "metadata": {},
   "outputs": [],
   "source": [
    "import pandas as pd"
   ]
  },
  {
   "cell_type": "code",
   "execution_count": 11,
   "metadata": {},
   "outputs": [],
   "source": [
    "df=pd.read_csv(\"C:\\\\Users\\\\fhrt8\\\\FoodDelivery\\\\notebooks\\\\Data\\\\finalTrain.csv\")"
   ]
  },
  {
   "cell_type": "code",
   "execution_count": 41,
   "metadata": {},
   "outputs": [
    {
     "data": {
      "text/html": [
       "<div>\n",
       "<style scoped>\n",
       "    .dataframe tbody tr th:only-of-type {\n",
       "        vertical-align: middle;\n",
       "    }\n",
       "\n",
       "    .dataframe tbody tr th {\n",
       "        vertical-align: top;\n",
       "    }\n",
       "\n",
       "    .dataframe thead th {\n",
       "        text-align: right;\n",
       "    }\n",
       "</style>\n",
       "<table border=\"1\" class=\"dataframe\">\n",
       "  <thead>\n",
       "    <tr style=\"text-align: right;\">\n",
       "      <th></th>\n",
       "      <th>0</th>\n",
       "      <th>1</th>\n",
       "      <th>2</th>\n",
       "      <th>3</th>\n",
       "      <th>4</th>\n",
       "    </tr>\n",
       "  </thead>\n",
       "  <tbody>\n",
       "    <tr>\n",
       "      <th>ID</th>\n",
       "      <td>0xcdcd</td>\n",
       "      <td>0xd987</td>\n",
       "      <td>0x2784</td>\n",
       "      <td>0xc8b6</td>\n",
       "      <td>0xdb64</td>\n",
       "    </tr>\n",
       "    <tr>\n",
       "      <th>Delivery_person_ID</th>\n",
       "      <td>DEHRES17DEL01</td>\n",
       "      <td>KOCRES16DEL01</td>\n",
       "      <td>PUNERES13DEL03</td>\n",
       "      <td>LUDHRES15DEL02</td>\n",
       "      <td>KNPRES14DEL02</td>\n",
       "    </tr>\n",
       "    <tr>\n",
       "      <th>Delivery_person_Age</th>\n",
       "      <td>36.0</td>\n",
       "      <td>21.0</td>\n",
       "      <td>23.0</td>\n",
       "      <td>34.0</td>\n",
       "      <td>24.0</td>\n",
       "    </tr>\n",
       "    <tr>\n",
       "      <th>Delivery_person_Ratings</th>\n",
       "      <td>4.2</td>\n",
       "      <td>4.7</td>\n",
       "      <td>4.7</td>\n",
       "      <td>4.3</td>\n",
       "      <td>4.7</td>\n",
       "    </tr>\n",
       "    <tr>\n",
       "      <th>Restaurant_latitude</th>\n",
       "      <td>30.327968</td>\n",
       "      <td>10.003064</td>\n",
       "      <td>18.56245</td>\n",
       "      <td>30.899584</td>\n",
       "      <td>26.463504</td>\n",
       "    </tr>\n",
       "    <tr>\n",
       "      <th>Restaurant_longitude</th>\n",
       "      <td>78.046106</td>\n",
       "      <td>76.307589</td>\n",
       "      <td>73.916619</td>\n",
       "      <td>75.809346</td>\n",
       "      <td>80.372929</td>\n",
       "    </tr>\n",
       "    <tr>\n",
       "      <th>Delivery_location_latitude</th>\n",
       "      <td>30.397968</td>\n",
       "      <td>10.043064</td>\n",
       "      <td>18.65245</td>\n",
       "      <td>30.919584</td>\n",
       "      <td>26.593504</td>\n",
       "    </tr>\n",
       "    <tr>\n",
       "      <th>Delivery_location_longitude</th>\n",
       "      <td>78.116106</td>\n",
       "      <td>76.347589</td>\n",
       "      <td>74.006619</td>\n",
       "      <td>75.829346</td>\n",
       "      <td>80.502929</td>\n",
       "    </tr>\n",
       "    <tr>\n",
       "      <th>Order_Date</th>\n",
       "      <td>12-02-2022</td>\n",
       "      <td>13-02-2022</td>\n",
       "      <td>04-03-2022</td>\n",
       "      <td>13-02-2022</td>\n",
       "      <td>14-02-2022</td>\n",
       "    </tr>\n",
       "    <tr>\n",
       "      <th>Time_Orderd</th>\n",
       "      <td>21:55</td>\n",
       "      <td>14:55</td>\n",
       "      <td>17:30</td>\n",
       "      <td>09:20</td>\n",
       "      <td>19:50</td>\n",
       "    </tr>\n",
       "    <tr>\n",
       "      <th>Time_Order_picked</th>\n",
       "      <td>22:10</td>\n",
       "      <td>15:05</td>\n",
       "      <td>17:40</td>\n",
       "      <td>09:30</td>\n",
       "      <td>20:05</td>\n",
       "    </tr>\n",
       "    <tr>\n",
       "      <th>Weather_conditions</th>\n",
       "      <td>Fog</td>\n",
       "      <td>Stormy</td>\n",
       "      <td>Sandstorms</td>\n",
       "      <td>Sandstorms</td>\n",
       "      <td>Fog</td>\n",
       "    </tr>\n",
       "    <tr>\n",
       "      <th>Road_traffic_density</th>\n",
       "      <td>Jam</td>\n",
       "      <td>High</td>\n",
       "      <td>Medium</td>\n",
       "      <td>Low</td>\n",
       "      <td>Jam</td>\n",
       "    </tr>\n",
       "    <tr>\n",
       "      <th>Vehicle_condition</th>\n",
       "      <td>2</td>\n",
       "      <td>1</td>\n",
       "      <td>1</td>\n",
       "      <td>0</td>\n",
       "      <td>1</td>\n",
       "    </tr>\n",
       "    <tr>\n",
       "      <th>Type_of_order</th>\n",
       "      <td>Snack</td>\n",
       "      <td>Meal</td>\n",
       "      <td>Drinks</td>\n",
       "      <td>Buffet</td>\n",
       "      <td>Snack</td>\n",
       "    </tr>\n",
       "    <tr>\n",
       "      <th>Type_of_vehicle</th>\n",
       "      <td>motorcycle</td>\n",
       "      <td>motorcycle</td>\n",
       "      <td>scooter</td>\n",
       "      <td>motorcycle</td>\n",
       "      <td>scooter</td>\n",
       "    </tr>\n",
       "    <tr>\n",
       "      <th>multiple_deliveries</th>\n",
       "      <td>3.0</td>\n",
       "      <td>1.0</td>\n",
       "      <td>1.0</td>\n",
       "      <td>0.0</td>\n",
       "      <td>1.0</td>\n",
       "    </tr>\n",
       "    <tr>\n",
       "      <th>Festival</th>\n",
       "      <td>No</td>\n",
       "      <td>No</td>\n",
       "      <td>No</td>\n",
       "      <td>No</td>\n",
       "      <td>No</td>\n",
       "    </tr>\n",
       "    <tr>\n",
       "      <th>City</th>\n",
       "      <td>Metropolitian</td>\n",
       "      <td>Metropolitian</td>\n",
       "      <td>Metropolitian</td>\n",
       "      <td>Metropolitian</td>\n",
       "      <td>Metropolitian</td>\n",
       "    </tr>\n",
       "    <tr>\n",
       "      <th>Time_taken (min)</th>\n",
       "      <td>46</td>\n",
       "      <td>23</td>\n",
       "      <td>21</td>\n",
       "      <td>20</td>\n",
       "      <td>41</td>\n",
       "    </tr>\n",
       "  </tbody>\n",
       "</table>\n",
       "</div>"
      ],
      "text/plain": [
       "                                         0              1               2  \\\n",
       "ID                                  0xcdcd         0xd987          0x2784   \n",
       "Delivery_person_ID           DEHRES17DEL01  KOCRES16DEL01  PUNERES13DEL03   \n",
       "Delivery_person_Age                   36.0           21.0            23.0   \n",
       "Delivery_person_Ratings                4.2            4.7             4.7   \n",
       "Restaurant_latitude              30.327968      10.003064        18.56245   \n",
       "Restaurant_longitude             78.046106      76.307589       73.916619   \n",
       "Delivery_location_latitude       30.397968      10.043064        18.65245   \n",
       "Delivery_location_longitude      78.116106      76.347589       74.006619   \n",
       "Order_Date                      12-02-2022     13-02-2022      04-03-2022   \n",
       "Time_Orderd                          21:55          14:55           17:30   \n",
       "Time_Order_picked                    22:10          15:05           17:40   \n",
       "Weather_conditions                     Fog         Stormy      Sandstorms   \n",
       "Road_traffic_density                   Jam           High          Medium   \n",
       "Vehicle_condition                        2              1               1   \n",
       "Type_of_order                        Snack           Meal          Drinks   \n",
       "Type_of_vehicle                 motorcycle     motorcycle         scooter   \n",
       "multiple_deliveries                    3.0            1.0             1.0   \n",
       "Festival                                No             No              No   \n",
       "City                         Metropolitian  Metropolitian   Metropolitian   \n",
       "Time_taken (min)                        46             23              21   \n",
       "\n",
       "                                          3              4  \n",
       "ID                                   0xc8b6         0xdb64  \n",
       "Delivery_person_ID           LUDHRES15DEL02  KNPRES14DEL02  \n",
       "Delivery_person_Age                    34.0           24.0  \n",
       "Delivery_person_Ratings                 4.3            4.7  \n",
       "Restaurant_latitude               30.899584      26.463504  \n",
       "Restaurant_longitude              75.809346      80.372929  \n",
       "Delivery_location_latitude        30.919584      26.593504  \n",
       "Delivery_location_longitude       75.829346      80.502929  \n",
       "Order_Date                       13-02-2022     14-02-2022  \n",
       "Time_Orderd                           09:20          19:50  \n",
       "Time_Order_picked                     09:30          20:05  \n",
       "Weather_conditions               Sandstorms            Fog  \n",
       "Road_traffic_density                    Low            Jam  \n",
       "Vehicle_condition                         0              1  \n",
       "Type_of_order                        Buffet          Snack  \n",
       "Type_of_vehicle                  motorcycle        scooter  \n",
       "multiple_deliveries                     0.0            1.0  \n",
       "Festival                                 No             No  \n",
       "City                          Metropolitian  Metropolitian  \n",
       "Time_taken (min)                         20             41  "
      ]
     },
     "execution_count": 41,
     "metadata": {},
     "output_type": "execute_result"
    }
   ],
   "source": [
    "df.head().T"
   ]
  },
  {
   "cell_type": "code",
   "execution_count": 14,
   "metadata": {},
   "outputs": [
    {
     "data": {
      "text/plain": [
       "Index(['ID', 'Delivery_person_ID', 'Delivery_person_Age',\n",
       "       'Delivery_person_Ratings', 'Restaurant_latitude',\n",
       "       'Restaurant_longitude', 'Delivery_location_latitude',\n",
       "       'Delivery_location_longitude', 'Order_Date', 'Time_Orderd',\n",
       "       'Time_Order_picked', 'Weather_conditions', 'Road_traffic_density',\n",
       "       'Vehicle_condition', 'Type_of_order', 'Type_of_vehicle',\n",
       "       'multiple_deliveries', 'Festival', 'City', 'Time_taken (min)'],\n",
       "      dtype='object')"
      ]
     },
     "execution_count": 14,
     "metadata": {},
     "output_type": "execute_result"
    }
   ],
   "source": [
    "df.columns"
   ]
  },
  {
   "cell_type": "code",
   "execution_count": 16,
   "metadata": {},
   "outputs": [
    {
     "data": {
      "text/plain": [
       "ID                                0\n",
       "Delivery_person_ID                0\n",
       "Delivery_person_Age            1854\n",
       "Delivery_person_Ratings        1908\n",
       "Restaurant_latitude               0\n",
       "Restaurant_longitude              0\n",
       "Delivery_location_latitude        0\n",
       "Delivery_location_longitude       0\n",
       "Order_Date                        0\n",
       "Time_Orderd                    1731\n",
       "Time_Order_picked                 0\n",
       "Weather_conditions              616\n",
       "Road_traffic_density            601\n",
       "Vehicle_condition                 0\n",
       "Type_of_order                     0\n",
       "Type_of_vehicle                   0\n",
       "multiple_deliveries             993\n",
       "Festival                        228\n",
       "City                           1200\n",
       "Time_taken (min)                  0\n",
       "dtype: int64"
      ]
     },
     "execution_count": 16,
     "metadata": {},
     "output_type": "execute_result"
    }
   ],
   "source": [
    "df.isnull().sum()"
   ]
  },
  {
   "cell_type": "code",
   "execution_count": 18,
   "metadata": {},
   "outputs": [
    {
     "data": {
      "text/plain": [
       "(45584, 20)"
      ]
     },
     "execution_count": 18,
     "metadata": {},
     "output_type": "execute_result"
    }
   ],
   "source": [
    "df.shape"
   ]
  },
  {
   "cell_type": "code",
   "execution_count": 39,
   "metadata": {},
   "outputs": [
    {
     "data": {
      "text/html": [
       "<div>\n",
       "<style scoped>\n",
       "    .dataframe tbody tr th:only-of-type {\n",
       "        vertical-align: middle;\n",
       "    }\n",
       "\n",
       "    .dataframe tbody tr th {\n",
       "        vertical-align: top;\n",
       "    }\n",
       "\n",
       "    .dataframe thead th {\n",
       "        text-align: right;\n",
       "    }\n",
       "</style>\n",
       "<table border=\"1\" class=\"dataframe\">\n",
       "  <thead>\n",
       "    <tr style=\"text-align: right;\">\n",
       "      <th></th>\n",
       "      <th>count</th>\n",
       "      <th>mean</th>\n",
       "      <th>std</th>\n",
       "      <th>min</th>\n",
       "      <th>25%</th>\n",
       "      <th>50%</th>\n",
       "      <th>75%</th>\n",
       "      <th>max</th>\n",
       "    </tr>\n",
       "  </thead>\n",
       "  <tbody>\n",
       "    <tr>\n",
       "      <th>Delivery_person_Age</th>\n",
       "      <td>43730.0</td>\n",
       "      <td>29.566911</td>\n",
       "      <td>5.815064</td>\n",
       "      <td>15.000000</td>\n",
       "      <td>25.000000</td>\n",
       "      <td>30.000000</td>\n",
       "      <td>35.000000</td>\n",
       "      <td>50.000000</td>\n",
       "    </tr>\n",
       "    <tr>\n",
       "      <th>Delivery_person_Ratings</th>\n",
       "      <td>43676.0</td>\n",
       "      <td>4.633774</td>\n",
       "      <td>0.334744</td>\n",
       "      <td>1.000000</td>\n",
       "      <td>4.500000</td>\n",
       "      <td>4.700000</td>\n",
       "      <td>4.900000</td>\n",
       "      <td>6.000000</td>\n",
       "    </tr>\n",
       "    <tr>\n",
       "      <th>Restaurant_latitude</th>\n",
       "      <td>45584.0</td>\n",
       "      <td>17.017948</td>\n",
       "      <td>8.185674</td>\n",
       "      <td>-30.905562</td>\n",
       "      <td>12.933284</td>\n",
       "      <td>18.551440</td>\n",
       "      <td>22.728163</td>\n",
       "      <td>30.914057</td>\n",
       "    </tr>\n",
       "    <tr>\n",
       "      <th>Restaurant_longitude</th>\n",
       "      <td>45584.0</td>\n",
       "      <td>70.229684</td>\n",
       "      <td>22.885575</td>\n",
       "      <td>-88.366217</td>\n",
       "      <td>73.170000</td>\n",
       "      <td>75.897963</td>\n",
       "      <td>78.044095</td>\n",
       "      <td>88.433452</td>\n",
       "    </tr>\n",
       "    <tr>\n",
       "      <th>Delivery_location_latitude</th>\n",
       "      <td>45584.0</td>\n",
       "      <td>17.465480</td>\n",
       "      <td>7.335562</td>\n",
       "      <td>0.010000</td>\n",
       "      <td>12.988453</td>\n",
       "      <td>18.633934</td>\n",
       "      <td>22.785049</td>\n",
       "      <td>31.054057</td>\n",
       "    </tr>\n",
       "    <tr>\n",
       "      <th>Delivery_location_longitude</th>\n",
       "      <td>45584.0</td>\n",
       "      <td>70.844161</td>\n",
       "      <td>21.120578</td>\n",
       "      <td>0.010000</td>\n",
       "      <td>73.280000</td>\n",
       "      <td>76.002574</td>\n",
       "      <td>78.107044</td>\n",
       "      <td>88.563452</td>\n",
       "    </tr>\n",
       "    <tr>\n",
       "      <th>Vehicle_condition</th>\n",
       "      <td>45584.0</td>\n",
       "      <td>1.023385</td>\n",
       "      <td>0.839055</td>\n",
       "      <td>0.000000</td>\n",
       "      <td>0.000000</td>\n",
       "      <td>1.000000</td>\n",
       "      <td>2.000000</td>\n",
       "      <td>3.000000</td>\n",
       "    </tr>\n",
       "    <tr>\n",
       "      <th>multiple_deliveries</th>\n",
       "      <td>44591.0</td>\n",
       "      <td>0.744635</td>\n",
       "      <td>0.572510</td>\n",
       "      <td>0.000000</td>\n",
       "      <td>0.000000</td>\n",
       "      <td>1.000000</td>\n",
       "      <td>1.000000</td>\n",
       "      <td>3.000000</td>\n",
       "    </tr>\n",
       "    <tr>\n",
       "      <th>Time_taken (min)</th>\n",
       "      <td>45584.0</td>\n",
       "      <td>26.293963</td>\n",
       "      <td>9.384298</td>\n",
       "      <td>10.000000</td>\n",
       "      <td>19.000000</td>\n",
       "      <td>26.000000</td>\n",
       "      <td>32.000000</td>\n",
       "      <td>54.000000</td>\n",
       "    </tr>\n",
       "  </tbody>\n",
       "</table>\n",
       "</div>"
      ],
      "text/plain": [
       "                               count       mean        std        min  \\\n",
       "Delivery_person_Age          43730.0  29.566911   5.815064  15.000000   \n",
       "Delivery_person_Ratings      43676.0   4.633774   0.334744   1.000000   \n",
       "Restaurant_latitude          45584.0  17.017948   8.185674 -30.905562   \n",
       "Restaurant_longitude         45584.0  70.229684  22.885575 -88.366217   \n",
       "Delivery_location_latitude   45584.0  17.465480   7.335562   0.010000   \n",
       "Delivery_location_longitude  45584.0  70.844161  21.120578   0.010000   \n",
       "Vehicle_condition            45584.0   1.023385   0.839055   0.000000   \n",
       "multiple_deliveries          44591.0   0.744635   0.572510   0.000000   \n",
       "Time_taken (min)             45584.0  26.293963   9.384298  10.000000   \n",
       "\n",
       "                                   25%        50%        75%        max  \n",
       "Delivery_person_Age          25.000000  30.000000  35.000000  50.000000  \n",
       "Delivery_person_Ratings       4.500000   4.700000   4.900000   6.000000  \n",
       "Restaurant_latitude          12.933284  18.551440  22.728163  30.914057  \n",
       "Restaurant_longitude         73.170000  75.897963  78.044095  88.433452  \n",
       "Delivery_location_latitude   12.988453  18.633934  22.785049  31.054057  \n",
       "Delivery_location_longitude  73.280000  76.002574  78.107044  88.563452  \n",
       "Vehicle_condition             0.000000   1.000000   2.000000   3.000000  \n",
       "multiple_deliveries           0.000000   1.000000   1.000000   3.000000  \n",
       "Time_taken (min)             19.000000  26.000000  32.000000  54.000000  "
      ]
     },
     "execution_count": 39,
     "metadata": {},
     "output_type": "execute_result"
    }
   ],
   "source": [
    "df.describe().T"
   ]
  },
  {
   "cell_type": "code",
   "execution_count": 40,
   "metadata": {},
   "outputs": [
    {
     "name": "stdout",
     "output_type": "stream",
     "text": [
      "<class 'pandas.core.frame.DataFrame'>\n",
      "RangeIndex: 45584 entries, 0 to 45583\n",
      "Data columns (total 20 columns):\n",
      " #   Column                       Non-Null Count  Dtype  \n",
      "---  ------                       --------------  -----  \n",
      " 0   ID                           45584 non-null  object \n",
      " 1   Delivery_person_ID           45584 non-null  object \n",
      " 2   Delivery_person_Age          43730 non-null  float64\n",
      " 3   Delivery_person_Ratings      43676 non-null  float64\n",
      " 4   Restaurant_latitude          45584 non-null  float64\n",
      " 5   Restaurant_longitude         45584 non-null  float64\n",
      " 6   Delivery_location_latitude   45584 non-null  float64\n",
      " 7   Delivery_location_longitude  45584 non-null  float64\n",
      " 8   Order_Date                   45584 non-null  object \n",
      " 9   Time_Orderd                  43853 non-null  object \n",
      " 10  Time_Order_picked            45584 non-null  object \n",
      " 11  Weather_conditions           44968 non-null  object \n",
      " 12  Road_traffic_density         44983 non-null  object \n",
      " 13  Vehicle_condition            45584 non-null  int64  \n",
      " 14  Type_of_order                45584 non-null  object \n",
      " 15  Type_of_vehicle              45584 non-null  object \n",
      " 16  multiple_deliveries          44591 non-null  float64\n",
      " 17  Festival                     45356 non-null  object \n",
      " 18  City                         44384 non-null  object \n",
      " 19  Time_taken (min)             45584 non-null  int64  \n",
      "dtypes: float64(7), int64(2), object(11)\n",
      "memory usage: 7.0+ MB\n"
     ]
    }
   ],
   "source": [
    "df.info()"
   ]
  },
  {
   "cell_type": "code",
   "execution_count": 42,
   "metadata": {},
   "outputs": [
    {
     "data": {
      "text/plain": [
       "0"
      ]
     },
     "execution_count": 42,
     "metadata": {},
     "output_type": "execute_result"
    }
   ],
   "source": [
    "df.duplicated().sum()"
   ]
  },
  {
   "cell_type": "code",
   "execution_count": 53,
   "metadata": {},
   "outputs": [
    {
     "data": {
      "text/plain": [
       "array(['DEHRES17DEL01', 'KOCRES16DEL01', 'PUNERES13DEL03', ...,\n",
       "       'KOCRES04DEL01', 'BHPRES06DEL03', 'GOARES03DEL03'], dtype=object)"
      ]
     },
     "execution_count": 53,
     "metadata": {},
     "output_type": "execute_result"
    }
   ],
   "source": [
    "df['Delivery_person_ID'].unique()"
   ]
  },
  {
   "cell_type": "code",
   "execution_count": 57,
   "metadata": {},
   "outputs": [
    {
     "data": {
      "text/plain": [
       "array(['Fog', 'Stormy', 'Sandstorms', 'Windy', 'Cloudy', 'Sunny', nan],\n",
       "      dtype=object)"
      ]
     },
     "execution_count": 57,
     "metadata": {},
     "output_type": "execute_result"
    }
   ],
   "source": [
    "df['Weather_conditions'].unique()"
   ]
  },
  {
   "cell_type": "code",
   "execution_count": 58,
   "metadata": {},
   "outputs": [
    {
     "data": {
      "text/plain": [
       "array(['Jam', 'High', 'Medium', 'Low', nan], dtype=object)"
      ]
     },
     "execution_count": 58,
     "metadata": {},
     "output_type": "execute_result"
    }
   ],
   "source": [
    "df['Road_traffic_density'].unique()"
   ]
  },
  {
   "cell_type": "code",
   "execution_count": 59,
   "metadata": {},
   "outputs": [
    {
     "data": {
      "text/plain": [
       "array([2, 1, 0, 3], dtype=int64)"
      ]
     },
     "execution_count": 59,
     "metadata": {},
     "output_type": "execute_result"
    }
   ],
   "source": [
    "df['Vehicle_condition'].unique()"
   ]
  },
  {
   "cell_type": "code",
   "execution_count": 60,
   "metadata": {},
   "outputs": [
    {
     "data": {
      "text/plain": [
       "array(['Snack', 'Meal', 'Drinks', 'Buffet'], dtype=object)"
      ]
     },
     "execution_count": 60,
     "metadata": {},
     "output_type": "execute_result"
    }
   ],
   "source": [
    "df['Type_of_order'].unique()"
   ]
  },
  {
   "cell_type": "code",
   "execution_count": 61,
   "metadata": {},
   "outputs": [
    {
     "data": {
      "text/plain": [
       "array(['motorcycle', 'scooter', 'electric_scooter', 'bicycle'],\n",
       "      dtype=object)"
      ]
     },
     "execution_count": 61,
     "metadata": {},
     "output_type": "execute_result"
    }
   ],
   "source": [
    "df['Type_of_vehicle'].unique()"
   ]
  },
  {
   "cell_type": "code",
   "execution_count": 62,
   "metadata": {},
   "outputs": [
    {
     "data": {
      "text/plain": [
       "array([ 3.,  1.,  0., nan,  2.])"
      ]
     },
     "execution_count": 62,
     "metadata": {},
     "output_type": "execute_result"
    }
   ],
   "source": [
    "df['multiple_deliveries'].unique()"
   ]
  },
  {
   "cell_type": "code",
   "execution_count": 63,
   "metadata": {},
   "outputs": [
    {
     "data": {
      "text/plain": [
       "array(['No', 'Yes', nan], dtype=object)"
      ]
     },
     "execution_count": 63,
     "metadata": {},
     "output_type": "execute_result"
    }
   ],
   "source": [
    "df['Festival'].unique()"
   ]
  },
  {
   "cell_type": "code",
   "execution_count": 64,
   "metadata": {},
   "outputs": [
    {
     "data": {
      "text/plain": [
       "array(['Metropolitian', 'Urban', 'Semi-Urban', nan], dtype=object)"
      ]
     },
     "execution_count": 64,
     "metadata": {},
     "output_type": "execute_result"
    }
   ],
   "source": [
    "df['City'].unique()"
   ]
  },
  {
   "cell_type": "code",
   "execution_count": 85,
   "metadata": {},
   "outputs": [
    {
     "data": {
      "text/plain": [
       "Festival\n",
       "No     44688\n",
       "Yes      896\n",
       "Name: count, dtype: int64"
      ]
     },
     "execution_count": 85,
     "metadata": {},
     "output_type": "execute_result"
    }
   ],
   "source": [
    "df['Festival'].value_counts()"
   ]
  },
  {
   "cell_type": "code",
   "execution_count": 79,
   "metadata": {},
   "outputs": [],
   "source": [
    "df['Festival']=df['Festival'].fillna('No')"
   ]
  },
  {
   "cell_type": "code",
   "execution_count": 80,
   "metadata": {},
   "outputs": [
    {
     "data": {
      "text/plain": [
       "array(['No', 'Yes'], dtype=object)"
      ]
     },
     "execution_count": 80,
     "metadata": {},
     "output_type": "execute_result"
    }
   ],
   "source": [
    "df['Festival'].unique()"
   ]
  },
  {
   "cell_type": "code",
   "execution_count": 54,
   "metadata": {},
   "outputs": [
    {
     "data": {
      "text/plain": [
       "Index(['ID', 'Delivery_person_ID', 'Delivery_person_Age',\n",
       "       'Delivery_person_Ratings', 'Restaurant_latitude',\n",
       "       'Restaurant_longitude', 'Delivery_location_latitude',\n",
       "       'Delivery_location_longitude', 'Order_Date', 'Time_Orderd',\n",
       "       'Time_Order_picked', 'Weather_conditions', 'Road_traffic_density',\n",
       "       'Vehicle_condition', 'Type_of_order', 'Type_of_vehicle',\n",
       "       'multiple_deliveries', 'Festival', 'City', 'Time_taken (min)'],\n",
       "      dtype='object')"
      ]
     },
     "execution_count": 54,
     "metadata": {},
     "output_type": "execute_result"
    }
   ],
   "source": [
    "df.columns"
   ]
  },
  {
   "cell_type": "code",
   "execution_count": 36,
   "metadata": {},
   "outputs": [],
   "source": [
    "mean_Delivery_person_Age=np.mean(df['Delivery_person_Age'])"
   ]
  },
  {
   "cell_type": "code",
   "execution_count": 37,
   "metadata": {},
   "outputs": [
    {
     "data": {
      "text/plain": [
       "29.566910587697233"
      ]
     },
     "execution_count": 37,
     "metadata": {},
     "output_type": "execute_result"
    }
   ],
   "source": [
    "mean_Delivery_person_Age"
   ]
  },
  {
   "cell_type": "code",
   "execution_count": 83,
   "metadata": {},
   "outputs": [
    {
     "data": {
      "text/html": [
       "<div>\n",
       "<style scoped>\n",
       "    .dataframe tbody tr th:only-of-type {\n",
       "        vertical-align: middle;\n",
       "    }\n",
       "\n",
       "    .dataframe tbody tr th {\n",
       "        vertical-align: top;\n",
       "    }\n",
       "\n",
       "    .dataframe thead th {\n",
       "        text-align: right;\n",
       "    }\n",
       "</style>\n",
       "<table border=\"1\" class=\"dataframe\">\n",
       "  <thead>\n",
       "    <tr style=\"text-align: right;\">\n",
       "      <th></th>\n",
       "      <th>ID</th>\n",
       "      <th>Delivery_person_ID</th>\n",
       "      <th>Delivery_person_Age</th>\n",
       "      <th>Delivery_person_Ratings</th>\n",
       "      <th>Restaurant_latitude</th>\n",
       "      <th>Restaurant_longitude</th>\n",
       "      <th>Delivery_location_latitude</th>\n",
       "      <th>Delivery_location_longitude</th>\n",
       "      <th>Order_Date</th>\n",
       "      <th>Time_Orderd</th>\n",
       "      <th>Time_Order_picked</th>\n",
       "      <th>Weather_conditions</th>\n",
       "      <th>Road_traffic_density</th>\n",
       "      <th>Vehicle_condition</th>\n",
       "      <th>Type_of_order</th>\n",
       "      <th>Type_of_vehicle</th>\n",
       "      <th>multiple_deliveries</th>\n",
       "      <th>Festival</th>\n",
       "      <th>City</th>\n",
       "      <th>Time_taken (min)</th>\n",
       "    </tr>\n",
       "  </thead>\n",
       "  <tbody>\n",
       "    <tr>\n",
       "      <th>33</th>\n",
       "      <td>0x4f0</td>\n",
       "      <td>MUMRES17DEL02</td>\n",
       "      <td>NaN</td>\n",
       "      <td>NaN</td>\n",
       "      <td>19.121999</td>\n",
       "      <td>72.908493</td>\n",
       "      <td>19.201999</td>\n",
       "      <td>72.988493</td>\n",
       "      <td>06-04-2022</td>\n",
       "      <td>NaN</td>\n",
       "      <td>18:35</td>\n",
       "      <td>Cloudy</td>\n",
       "      <td>Medium</td>\n",
       "      <td>1</td>\n",
       "      <td>Drinks</td>\n",
       "      <td>scooter</td>\n",
       "      <td>1.0</td>\n",
       "      <td>No</td>\n",
       "      <td>Metropolitian</td>\n",
       "      <td>33</td>\n",
       "    </tr>\n",
       "    <tr>\n",
       "      <th>65</th>\n",
       "      <td>0xa9f</td>\n",
       "      <td>BANGRES13DEL01</td>\n",
       "      <td>NaN</td>\n",
       "      <td>NaN</td>\n",
       "      <td>12.935662</td>\n",
       "      <td>77.614130</td>\n",
       "      <td>12.975662</td>\n",
       "      <td>77.654130</td>\n",
       "      <td>11-03-2022</td>\n",
       "      <td>NaN</td>\n",
       "      <td>15:30</td>\n",
       "      <td>NaN</td>\n",
       "      <td>NaN</td>\n",
       "      <td>1</td>\n",
       "      <td>Drinks</td>\n",
       "      <td>scooter</td>\n",
       "      <td>0.0</td>\n",
       "      <td>No</td>\n",
       "      <td>Metropolitian</td>\n",
       "      <td>19</td>\n",
       "    </tr>\n",
       "    <tr>\n",
       "      <th>111</th>\n",
       "      <td>0x6e2</td>\n",
       "      <td>VADRES06DEL01</td>\n",
       "      <td>NaN</td>\n",
       "      <td>NaN</td>\n",
       "      <td>22.312790</td>\n",
       "      <td>73.170283</td>\n",
       "      <td>22.422790</td>\n",
       "      <td>73.280283</td>\n",
       "      <td>02-04-2022</td>\n",
       "      <td>NaN</td>\n",
       "      <td>18:25</td>\n",
       "      <td>NaN</td>\n",
       "      <td>NaN</td>\n",
       "      <td>3</td>\n",
       "      <td>Snack</td>\n",
       "      <td>electric_scooter</td>\n",
       "      <td>0.0</td>\n",
       "      <td>No</td>\n",
       "      <td>Metropolitian</td>\n",
       "      <td>25</td>\n",
       "    </tr>\n",
       "    <tr>\n",
       "      <th>131</th>\n",
       "      <td>0x1ec7</td>\n",
       "      <td>PUNERES05DEL03</td>\n",
       "      <td>NaN</td>\n",
       "      <td>NaN</td>\n",
       "      <td>18.543626</td>\n",
       "      <td>73.905101</td>\n",
       "      <td>18.573626</td>\n",
       "      <td>73.935101</td>\n",
       "      <td>09-03-2022</td>\n",
       "      <td>NaN</td>\n",
       "      <td>23:40</td>\n",
       "      <td>Stormy</td>\n",
       "      <td>Low</td>\n",
       "      <td>2</td>\n",
       "      <td>Snack</td>\n",
       "      <td>scooter</td>\n",
       "      <td>0.0</td>\n",
       "      <td>No</td>\n",
       "      <td>NaN</td>\n",
       "      <td>19</td>\n",
       "    </tr>\n",
       "    <tr>\n",
       "      <th>170</th>\n",
       "      <td>0x1b58</td>\n",
       "      <td>JAPRES03DEL01</td>\n",
       "      <td>NaN</td>\n",
       "      <td>NaN</td>\n",
       "      <td>26.913483</td>\n",
       "      <td>75.803139</td>\n",
       "      <td>26.983483</td>\n",
       "      <td>75.873139</td>\n",
       "      <td>12-03-2022</td>\n",
       "      <td>NaN</td>\n",
       "      <td>17:50</td>\n",
       "      <td>Sandstorms</td>\n",
       "      <td>Medium</td>\n",
       "      <td>0</td>\n",
       "      <td>Drinks</td>\n",
       "      <td>motorcycle</td>\n",
       "      <td>0.0</td>\n",
       "      <td>No</td>\n",
       "      <td>Metropolitian</td>\n",
       "      <td>43</td>\n",
       "    </tr>\n",
       "    <tr>\n",
       "      <th>...</th>\n",
       "      <td>...</td>\n",
       "      <td>...</td>\n",
       "      <td>...</td>\n",
       "      <td>...</td>\n",
       "      <td>...</td>\n",
       "      <td>...</td>\n",
       "      <td>...</td>\n",
       "      <td>...</td>\n",
       "      <td>...</td>\n",
       "      <td>...</td>\n",
       "      <td>...</td>\n",
       "      <td>...</td>\n",
       "      <td>...</td>\n",
       "      <td>...</td>\n",
       "      <td>...</td>\n",
       "      <td>...</td>\n",
       "      <td>...</td>\n",
       "      <td>...</td>\n",
       "      <td>...</td>\n",
       "      <td>...</td>\n",
       "    </tr>\n",
       "    <tr>\n",
       "      <th>45499</th>\n",
       "      <td>0x426b</td>\n",
       "      <td>HYDRES06DEL01</td>\n",
       "      <td>NaN</td>\n",
       "      <td>NaN</td>\n",
       "      <td>17.455894</td>\n",
       "      <td>78.375467</td>\n",
       "      <td>17.525894</td>\n",
       "      <td>78.445467</td>\n",
       "      <td>23-03-2022</td>\n",
       "      <td>17:55</td>\n",
       "      <td>0.75</td>\n",
       "      <td>Fog</td>\n",
       "      <td>Medium</td>\n",
       "      <td>0</td>\n",
       "      <td>Meal</td>\n",
       "      <td>motorcycle</td>\n",
       "      <td>1.0</td>\n",
       "      <td>No</td>\n",
       "      <td>Urban</td>\n",
       "      <td>36</td>\n",
       "    </tr>\n",
       "    <tr>\n",
       "      <th>45509</th>\n",
       "      <td>0x863</td>\n",
       "      <td>INDORES05DEL01</td>\n",
       "      <td>NaN</td>\n",
       "      <td>NaN</td>\n",
       "      <td>22.727021</td>\n",
       "      <td>75.884167</td>\n",
       "      <td>22.737021</td>\n",
       "      <td>75.894167</td>\n",
       "      <td>19-03-2022</td>\n",
       "      <td>NaN</td>\n",
       "      <td>11:40</td>\n",
       "      <td>NaN</td>\n",
       "      <td>NaN</td>\n",
       "      <td>3</td>\n",
       "      <td>Snack</td>\n",
       "      <td>electric_scooter</td>\n",
       "      <td>0.0</td>\n",
       "      <td>No</td>\n",
       "      <td>Metropolitian</td>\n",
       "      <td>25</td>\n",
       "    </tr>\n",
       "    <tr>\n",
       "      <th>45510</th>\n",
       "      <td>0xd0be</td>\n",
       "      <td>AGRRES07DEL01</td>\n",
       "      <td>NaN</td>\n",
       "      <td>NaN</td>\n",
       "      <td>27.160934</td>\n",
       "      <td>78.044095</td>\n",
       "      <td>27.170934</td>\n",
       "      <td>78.054095</td>\n",
       "      <td>13-02-2022</td>\n",
       "      <td>NaN</td>\n",
       "      <td>09:05</td>\n",
       "      <td>NaN</td>\n",
       "      <td>NaN</td>\n",
       "      <td>3</td>\n",
       "      <td>Meal</td>\n",
       "      <td>electric_scooter</td>\n",
       "      <td>1.0</td>\n",
       "      <td>No</td>\n",
       "      <td>Urban</td>\n",
       "      <td>17</td>\n",
       "    </tr>\n",
       "    <tr>\n",
       "      <th>45517</th>\n",
       "      <td>0x1ed1</td>\n",
       "      <td>JAPRES18DEL01</td>\n",
       "      <td>NaN</td>\n",
       "      <td>NaN</td>\n",
       "      <td>26.913987</td>\n",
       "      <td>75.752891</td>\n",
       "      <td>27.023987</td>\n",
       "      <td>75.862891</td>\n",
       "      <td>27-03-2022</td>\n",
       "      <td>20:35</td>\n",
       "      <td>20:45</td>\n",
       "      <td>Cloudy</td>\n",
       "      <td>Jam</td>\n",
       "      <td>2</td>\n",
       "      <td>Snack</td>\n",
       "      <td>scooter</td>\n",
       "      <td>0.0</td>\n",
       "      <td>No</td>\n",
       "      <td>Metropolitian</td>\n",
       "      <td>48</td>\n",
       "    </tr>\n",
       "    <tr>\n",
       "      <th>45557</th>\n",
       "      <td>0x1163</td>\n",
       "      <td>SURRES06DEL02</td>\n",
       "      <td>NaN</td>\n",
       "      <td>NaN</td>\n",
       "      <td>21.185047</td>\n",
       "      <td>72.808590</td>\n",
       "      <td>21.205047</td>\n",
       "      <td>72.828590</td>\n",
       "      <td>03-04-2022</td>\n",
       "      <td>NaN</td>\n",
       "      <td>10:50</td>\n",
       "      <td>Windy</td>\n",
       "      <td>Low</td>\n",
       "      <td>2</td>\n",
       "      <td>Meal</td>\n",
       "      <td>scooter</td>\n",
       "      <td>0.0</td>\n",
       "      <td>No</td>\n",
       "      <td>Urban</td>\n",
       "      <td>12</td>\n",
       "    </tr>\n",
       "  </tbody>\n",
       "</table>\n",
       "<p>1854 rows × 20 columns</p>\n",
       "</div>"
      ],
      "text/plain": [
       "           ID Delivery_person_ID  Delivery_person_Age  \\\n",
       "33      0x4f0      MUMRES17DEL02                  NaN   \n",
       "65      0xa9f     BANGRES13DEL01                  NaN   \n",
       "111     0x6e2      VADRES06DEL01                  NaN   \n",
       "131    0x1ec7     PUNERES05DEL03                  NaN   \n",
       "170    0x1b58      JAPRES03DEL01                  NaN   \n",
       "...       ...                ...                  ...   \n",
       "45499  0x426b      HYDRES06DEL01                  NaN   \n",
       "45509   0x863     INDORES05DEL01                  NaN   \n",
       "45510  0xd0be      AGRRES07DEL01                  NaN   \n",
       "45517  0x1ed1      JAPRES18DEL01                  NaN   \n",
       "45557  0x1163      SURRES06DEL02                  NaN   \n",
       "\n",
       "       Delivery_person_Ratings  Restaurant_latitude  Restaurant_longitude  \\\n",
       "33                         NaN            19.121999             72.908493   \n",
       "65                         NaN            12.935662             77.614130   \n",
       "111                        NaN            22.312790             73.170283   \n",
       "131                        NaN            18.543626             73.905101   \n",
       "170                        NaN            26.913483             75.803139   \n",
       "...                        ...                  ...                   ...   \n",
       "45499                      NaN            17.455894             78.375467   \n",
       "45509                      NaN            22.727021             75.884167   \n",
       "45510                      NaN            27.160934             78.044095   \n",
       "45517                      NaN            26.913987             75.752891   \n",
       "45557                      NaN            21.185047             72.808590   \n",
       "\n",
       "       Delivery_location_latitude  Delivery_location_longitude  Order_Date  \\\n",
       "33                      19.201999                    72.988493  06-04-2022   \n",
       "65                      12.975662                    77.654130  11-03-2022   \n",
       "111                     22.422790                    73.280283  02-04-2022   \n",
       "131                     18.573626                    73.935101  09-03-2022   \n",
       "170                     26.983483                    75.873139  12-03-2022   \n",
       "...                           ...                          ...         ...   \n",
       "45499                   17.525894                    78.445467  23-03-2022   \n",
       "45509                   22.737021                    75.894167  19-03-2022   \n",
       "45510                   27.170934                    78.054095  13-02-2022   \n",
       "45517                   27.023987                    75.862891  27-03-2022   \n",
       "45557                   21.205047                    72.828590  03-04-2022   \n",
       "\n",
       "      Time_Orderd Time_Order_picked Weather_conditions Road_traffic_density  \\\n",
       "33            NaN             18:35             Cloudy               Medium   \n",
       "65            NaN             15:30                NaN                  NaN   \n",
       "111           NaN             18:25                NaN                  NaN   \n",
       "131           NaN             23:40             Stormy                  Low   \n",
       "170           NaN             17:50         Sandstorms               Medium   \n",
       "...           ...               ...                ...                  ...   \n",
       "45499       17:55              0.75                Fog               Medium   \n",
       "45509         NaN             11:40                NaN                  NaN   \n",
       "45510         NaN             09:05                NaN                  NaN   \n",
       "45517       20:35             20:45             Cloudy                  Jam   \n",
       "45557         NaN             10:50              Windy                  Low   \n",
       "\n",
       "       Vehicle_condition Type_of_order   Type_of_vehicle  multiple_deliveries  \\\n",
       "33                     1        Drinks           scooter                  1.0   \n",
       "65                     1        Drinks           scooter                  0.0   \n",
       "111                    3         Snack  electric_scooter                  0.0   \n",
       "131                    2         Snack           scooter                  0.0   \n",
       "170                    0        Drinks        motorcycle                  0.0   \n",
       "...                  ...           ...               ...                  ...   \n",
       "45499                  0          Meal        motorcycle                  1.0   \n",
       "45509                  3         Snack  electric_scooter                  0.0   \n",
       "45510                  3          Meal  electric_scooter                  1.0   \n",
       "45517                  2         Snack           scooter                  0.0   \n",
       "45557                  2          Meal           scooter                  0.0   \n",
       "\n",
       "      Festival           City  Time_taken (min)  \n",
       "33          No  Metropolitian                33  \n",
       "65          No  Metropolitian                19  \n",
       "111         No  Metropolitian                25  \n",
       "131         No            NaN                19  \n",
       "170         No  Metropolitian                43  \n",
       "...        ...            ...               ...  \n",
       "45499       No          Urban                36  \n",
       "45509       No  Metropolitian                25  \n",
       "45510       No          Urban                17  \n",
       "45517       No  Metropolitian                48  \n",
       "45557       No          Urban                12  \n",
       "\n",
       "[1854 rows x 20 columns]"
      ]
     },
     "execution_count": 83,
     "metadata": {},
     "output_type": "execute_result"
    }
   ],
   "source": [
    "df[df['Delivery_person_Age'].isnull()]"
   ]
  },
  {
   "cell_type": "code",
   "execution_count": 86,
   "metadata": {},
   "outputs": [],
   "source": [
    "df=df.drop(labels=['ID','Delivery_person_ID'], axis=1)"
   ]
  },
  {
   "cell_type": "code",
   "execution_count": 87,
   "metadata": {},
   "outputs": [
    {
     "data": {
      "text/html": [
       "<div>\n",
       "<style scoped>\n",
       "    .dataframe tbody tr th:only-of-type {\n",
       "        vertical-align: middle;\n",
       "    }\n",
       "\n",
       "    .dataframe tbody tr th {\n",
       "        vertical-align: top;\n",
       "    }\n",
       "\n",
       "    .dataframe thead th {\n",
       "        text-align: right;\n",
       "    }\n",
       "</style>\n",
       "<table border=\"1\" class=\"dataframe\">\n",
       "  <thead>\n",
       "    <tr style=\"text-align: right;\">\n",
       "      <th></th>\n",
       "      <th>Delivery_person_Age</th>\n",
       "      <th>Delivery_person_Ratings</th>\n",
       "      <th>Restaurant_latitude</th>\n",
       "      <th>Restaurant_longitude</th>\n",
       "      <th>Delivery_location_latitude</th>\n",
       "      <th>Delivery_location_longitude</th>\n",
       "      <th>Order_Date</th>\n",
       "      <th>Time_Orderd</th>\n",
       "      <th>Time_Order_picked</th>\n",
       "      <th>Weather_conditions</th>\n",
       "      <th>Road_traffic_density</th>\n",
       "      <th>Vehicle_condition</th>\n",
       "      <th>Type_of_order</th>\n",
       "      <th>Type_of_vehicle</th>\n",
       "      <th>multiple_deliveries</th>\n",
       "      <th>Festival</th>\n",
       "      <th>City</th>\n",
       "      <th>Time_taken (min)</th>\n",
       "    </tr>\n",
       "  </thead>\n",
       "  <tbody>\n",
       "    <tr>\n",
       "      <th>0</th>\n",
       "      <td>36.0</td>\n",
       "      <td>4.2</td>\n",
       "      <td>30.327968</td>\n",
       "      <td>78.046106</td>\n",
       "      <td>30.397968</td>\n",
       "      <td>78.116106</td>\n",
       "      <td>12-02-2022</td>\n",
       "      <td>21:55</td>\n",
       "      <td>22:10</td>\n",
       "      <td>Fog</td>\n",
       "      <td>Jam</td>\n",
       "      <td>2</td>\n",
       "      <td>Snack</td>\n",
       "      <td>motorcycle</td>\n",
       "      <td>3.0</td>\n",
       "      <td>No</td>\n",
       "      <td>Metropolitian</td>\n",
       "      <td>46</td>\n",
       "    </tr>\n",
       "    <tr>\n",
       "      <th>1</th>\n",
       "      <td>21.0</td>\n",
       "      <td>4.7</td>\n",
       "      <td>10.003064</td>\n",
       "      <td>76.307589</td>\n",
       "      <td>10.043064</td>\n",
       "      <td>76.347589</td>\n",
       "      <td>13-02-2022</td>\n",
       "      <td>14:55</td>\n",
       "      <td>15:05</td>\n",
       "      <td>Stormy</td>\n",
       "      <td>High</td>\n",
       "      <td>1</td>\n",
       "      <td>Meal</td>\n",
       "      <td>motorcycle</td>\n",
       "      <td>1.0</td>\n",
       "      <td>No</td>\n",
       "      <td>Metropolitian</td>\n",
       "      <td>23</td>\n",
       "    </tr>\n",
       "    <tr>\n",
       "      <th>2</th>\n",
       "      <td>23.0</td>\n",
       "      <td>4.7</td>\n",
       "      <td>18.562450</td>\n",
       "      <td>73.916619</td>\n",
       "      <td>18.652450</td>\n",
       "      <td>74.006619</td>\n",
       "      <td>04-03-2022</td>\n",
       "      <td>17:30</td>\n",
       "      <td>17:40</td>\n",
       "      <td>Sandstorms</td>\n",
       "      <td>Medium</td>\n",
       "      <td>1</td>\n",
       "      <td>Drinks</td>\n",
       "      <td>scooter</td>\n",
       "      <td>1.0</td>\n",
       "      <td>No</td>\n",
       "      <td>Metropolitian</td>\n",
       "      <td>21</td>\n",
       "    </tr>\n",
       "    <tr>\n",
       "      <th>3</th>\n",
       "      <td>34.0</td>\n",
       "      <td>4.3</td>\n",
       "      <td>30.899584</td>\n",
       "      <td>75.809346</td>\n",
       "      <td>30.919584</td>\n",
       "      <td>75.829346</td>\n",
       "      <td>13-02-2022</td>\n",
       "      <td>09:20</td>\n",
       "      <td>09:30</td>\n",
       "      <td>Sandstorms</td>\n",
       "      <td>Low</td>\n",
       "      <td>0</td>\n",
       "      <td>Buffet</td>\n",
       "      <td>motorcycle</td>\n",
       "      <td>0.0</td>\n",
       "      <td>No</td>\n",
       "      <td>Metropolitian</td>\n",
       "      <td>20</td>\n",
       "    </tr>\n",
       "    <tr>\n",
       "      <th>4</th>\n",
       "      <td>24.0</td>\n",
       "      <td>4.7</td>\n",
       "      <td>26.463504</td>\n",
       "      <td>80.372929</td>\n",
       "      <td>26.593504</td>\n",
       "      <td>80.502929</td>\n",
       "      <td>14-02-2022</td>\n",
       "      <td>19:50</td>\n",
       "      <td>20:05</td>\n",
       "      <td>Fog</td>\n",
       "      <td>Jam</td>\n",
       "      <td>1</td>\n",
       "      <td>Snack</td>\n",
       "      <td>scooter</td>\n",
       "      <td>1.0</td>\n",
       "      <td>No</td>\n",
       "      <td>Metropolitian</td>\n",
       "      <td>41</td>\n",
       "    </tr>\n",
       "  </tbody>\n",
       "</table>\n",
       "</div>"
      ],
      "text/plain": [
       "   Delivery_person_Age  Delivery_person_Ratings  Restaurant_latitude  \\\n",
       "0                 36.0                      4.2            30.327968   \n",
       "1                 21.0                      4.7            10.003064   \n",
       "2                 23.0                      4.7            18.562450   \n",
       "3                 34.0                      4.3            30.899584   \n",
       "4                 24.0                      4.7            26.463504   \n",
       "\n",
       "   Restaurant_longitude  Delivery_location_latitude  \\\n",
       "0             78.046106                   30.397968   \n",
       "1             76.307589                   10.043064   \n",
       "2             73.916619                   18.652450   \n",
       "3             75.809346                   30.919584   \n",
       "4             80.372929                   26.593504   \n",
       "\n",
       "   Delivery_location_longitude  Order_Date Time_Orderd Time_Order_picked  \\\n",
       "0                    78.116106  12-02-2022       21:55             22:10   \n",
       "1                    76.347589  13-02-2022       14:55             15:05   \n",
       "2                    74.006619  04-03-2022       17:30             17:40   \n",
       "3                    75.829346  13-02-2022       09:20             09:30   \n",
       "4                    80.502929  14-02-2022       19:50             20:05   \n",
       "\n",
       "  Weather_conditions Road_traffic_density  Vehicle_condition Type_of_order  \\\n",
       "0                Fog                  Jam                  2         Snack   \n",
       "1             Stormy                 High                  1          Meal   \n",
       "2         Sandstorms               Medium                  1        Drinks   \n",
       "3         Sandstorms                  Low                  0        Buffet   \n",
       "4                Fog                  Jam                  1         Snack   \n",
       "\n",
       "  Type_of_vehicle  multiple_deliveries Festival           City  \\\n",
       "0      motorcycle                  3.0       No  Metropolitian   \n",
       "1      motorcycle                  1.0       No  Metropolitian   \n",
       "2         scooter                  1.0       No  Metropolitian   \n",
       "3      motorcycle                  0.0       No  Metropolitian   \n",
       "4         scooter                  1.0       No  Metropolitian   \n",
       "\n",
       "   Time_taken (min)  \n",
       "0                46  \n",
       "1                23  \n",
       "2                21  \n",
       "3                20  \n",
       "4                41  "
      ]
     },
     "execution_count": 87,
     "metadata": {},
     "output_type": "execute_result"
    }
   ],
   "source": [
    "df.head()"
   ]
  },
  {
   "cell_type": "code",
   "execution_count": 89,
   "metadata": {},
   "outputs": [],
   "source": [
    "df['Delivery_person_Age']=df['Delivery_person_Age'].fillna(mean_Delivery_person_Age)"
   ]
  },
  {
   "cell_type": "code",
   "execution_count": 98,
   "metadata": {},
   "outputs": [
    {
     "data": {
      "text/plain": [
       "0        True\n",
       "1        True\n",
       "2        True\n",
       "3        True\n",
       "4        True\n",
       "         ... \n",
       "45579    True\n",
       "45580    True\n",
       "45581    True\n",
       "45582    True\n",
       "45583    True\n",
       "Name: Delivery_person_Age, Length: 45584, dtype: bool"
      ]
     },
     "execution_count": 98,
     "metadata": {},
     "output_type": "execute_result"
    }
   ],
   "source": [
    "~(df['Delivery_person_Age'].isnull())"
   ]
  },
  {
   "cell_type": "code",
   "execution_count": 97,
   "metadata": {},
   "outputs": [
    {
     "data": {
      "text/plain": [
       "0"
      ]
     },
     "execution_count": 97,
     "metadata": {},
     "output_type": "execute_result"
    }
   ],
   "source": [
    "df['Delivery_person_Age'].isna().sum()"
   ]
  },
  {
   "cell_type": "code",
   "execution_count": 99,
   "metadata": {},
   "outputs": [
    {
     "data": {
      "text/plain": [
       "1908"
      ]
     },
     "execution_count": 99,
     "metadata": {},
     "output_type": "execute_result"
    }
   ],
   "source": [
    "df['Delivery_person_Ratings'].isna().sum()"
   ]
  },
  {
   "cell_type": "code",
   "execution_count": 101,
   "metadata": {},
   "outputs": [],
   "source": [
    "mean_Delivery_person_Ratings=np.mean(df['Delivery_person_Ratings'])"
   ]
  },
  {
   "cell_type": "code",
   "execution_count": 102,
   "metadata": {},
   "outputs": [
    {
     "data": {
      "text/plain": [
       "4.6337736972250205"
      ]
     },
     "execution_count": 102,
     "metadata": {},
     "output_type": "execute_result"
    }
   ],
   "source": [
    "mean_Delivery_person_Ratings"
   ]
  },
  {
   "cell_type": "code",
   "execution_count": 104,
   "metadata": {},
   "outputs": [],
   "source": [
    "df['Delivery_person_Ratings']=df['Delivery_person_Ratings'].fillna(mean_Delivery_person_Ratings)"
   ]
  },
  {
   "cell_type": "code",
   "execution_count": 110,
   "metadata": {},
   "outputs": [],
   "source": [
    "df['Delivery_person_Ratings']=df['Delivery_person_Ratings'].round(decimals=1)"
   ]
  },
  {
   "cell_type": "code",
   "execution_count": 111,
   "metadata": {},
   "outputs": [
    {
     "data": {
      "text/plain": [
       "array([4.2, 4.7, 4.3, 4.5, 4. , 4.9, 4.1, 5. , 4.8, 3.5, 4.6, 4.4, 3.8,\n",
       "       3.9, 3.7, 2.6, 2.5, 3.6, 3.1, 2.7, 1. , 3.2, 3.3, 6. , 3.4, 2.8,\n",
       "       2.9, 3. ])"
      ]
     },
     "execution_count": 111,
     "metadata": {},
     "output_type": "execute_result"
    }
   ],
   "source": [
    "df['Delivery_person_Ratings'].unique()"
   ]
  },
  {
   "cell_type": "code",
   "execution_count": 113,
   "metadata": {},
   "outputs": [
    {
     "data": {
      "text/plain": [
       "Index(['Delivery_person_Age', 'Delivery_person_Ratings', 'Restaurant_latitude',\n",
       "       'Restaurant_longitude', 'Delivery_location_latitude',\n",
       "       'Delivery_location_longitude', 'Order_Date', 'Time_Orderd',\n",
       "       'Time_Order_picked', 'Weather_conditions', 'Road_traffic_density',\n",
       "       'Vehicle_condition', 'Type_of_order', 'Type_of_vehicle',\n",
       "       'multiple_deliveries', 'Festival', 'City', 'Time_taken (min)'],\n",
       "      dtype='object')"
      ]
     },
     "execution_count": 113,
     "metadata": {},
     "output_type": "execute_result"
    }
   ],
   "source": [
    "df.columns"
   ]
  },
  {
   "cell_type": "code",
   "execution_count": 121,
   "metadata": {},
   "outputs": [
    {
     "data": {
      "text/plain": [
       "1731"
      ]
     },
     "execution_count": 121,
     "metadata": {},
     "output_type": "execute_result"
    }
   ],
   "source": [
    "df['Time_Orderd'].isnull().sum()"
   ]
  },
  {
   "cell_type": "code",
   "execution_count": 122,
   "metadata": {},
   "outputs": [],
   "source": [
    "from statistics import mode"
   ]
  },
  {
   "cell_type": "code",
   "execution_count": 124,
   "metadata": {},
   "outputs": [
    {
     "data": {
      "text/plain": [
       "nan"
      ]
     },
     "execution_count": 124,
     "metadata": {},
     "output_type": "execute_result"
    }
   ],
   "source": [
    "mode(df['Time_Orderd'])"
   ]
  },
  {
   "cell_type": "code",
   "execution_count": 125,
   "metadata": {},
   "outputs": [
    {
     "data": {
      "text/plain": [
       "array(['21:55', '14:55', '17:30', '09:20', '19:50', '20:25', '20:30',\n",
       "       '20:40', '21:15', '20:20', '22:30', '08:15', '19:30', '12:25',\n",
       "       '18:35', '20:35', '23:20', '21:20', '23:35', '22:35', '23:25',\n",
       "       '13:35', '21:35', '18:55', '14:15', '0.458333333', '09:45',\n",
       "       '08:40', '0.958333333', '17:25', nan, '19:45', '19:10', '10:55',\n",
       "       '21:40', '0.791666667', '16:45', '11:30', '15:10', '22:45',\n",
       "       '22:10', '20:45', '22:50', '17:55', '09:25', '20:15', '22:25',\n",
       "       '22:40', '23:50', '15:25', '10:20', '20:55', '10:40', '15:55',\n",
       "       '20:10', '12:10', '15:30', '10:35', '21:10', '20:50', '12:35',\n",
       "       '0.875', '23:40', '18:15', '18:20', '11:45', '12:45', '23:30',\n",
       "       '10:50', '21:25', '10:10', '17:50', '22:20', '12:40', '23:55',\n",
       "       '10:25', '08:45', '23:45', '19:55', '22:15', '23:10', '09:15',\n",
       "       '18:25', '18:45', '16:50', '1', '14:20', '10:15', '08:50', '0.375',\n",
       "       '17:45', '16:35', '08:30', '21:45', '19:40', '14:50', '18:10',\n",
       "       '12:20', '12:50', '09:10', '12:30', '17:10', '19:15', '17:20',\n",
       "       '18:30', '13:10', '19:35', '09:50', '0.625', '0.833333333',\n",
       "       '10:30', '09:40', '15:35', '16:55', '22:55', '0.666666667', '0.75',\n",
       "       '17:15', '21:30', '18:40', '11:10', '13:50', '0.416666667',\n",
       "       '21:50', '11:50', '13:30', '0.916666667', '08:25', '11:20',\n",
       "       '11:55', '09:30', '08:20', '08:10', '11:40', '23:15', '19:20',\n",
       "       '12:15', '11:35', '11:15', '17:35', '17:40', '14:40', '18:50',\n",
       "       '11:25', '14:25', '0.5', '16:10', '19:25', '08:55', '13:40',\n",
       "       '0.708333333', '09:35', '08:35', '16:15', '13:20', '15:50',\n",
       "       '15:20', '16:20', '14:30', '15:45', '16:40', '0.541666667',\n",
       "       '12:55', '10:45', '13:25', '09:55', '15:15', '13:15',\n",
       "       '0.583333333', '15:40', '16:25', '14:10', '13:45', '13:55',\n",
       "       '14:35', '16:30', '14:45'], dtype=object)"
      ]
     },
     "execution_count": 125,
     "metadata": {},
     "output_type": "execute_result"
    }
   ],
   "source": [
    "df['Time_Orderd'].unique()"
   ]
  },
  {
   "cell_type": "code",
   "execution_count": 187,
   "metadata": {},
   "outputs": [
    {
     "data": {
      "text/html": [
       "<div>\n",
       "<style scoped>\n",
       "    .dataframe tbody tr th:only-of-type {\n",
       "        vertical-align: middle;\n",
       "    }\n",
       "\n",
       "    .dataframe tbody tr th {\n",
       "        vertical-align: top;\n",
       "    }\n",
       "\n",
       "    .dataframe thead th {\n",
       "        text-align: right;\n",
       "    }\n",
       "</style>\n",
       "<table border=\"1\" class=\"dataframe\">\n",
       "  <thead>\n",
       "    <tr style=\"text-align: right;\">\n",
       "      <th></th>\n",
       "      <th>Delivery_person_Age</th>\n",
       "      <th>Delivery_person_Ratings</th>\n",
       "      <th>Restaurant_latitude</th>\n",
       "      <th>Restaurant_longitude</th>\n",
       "      <th>Delivery_location_latitude</th>\n",
       "      <th>Delivery_location_longitude</th>\n",
       "      <th>Order_Date</th>\n",
       "      <th>Time_Orderd</th>\n",
       "      <th>Time_Order_picked</th>\n",
       "      <th>Weather_conditions</th>\n",
       "      <th>Road_traffic_density</th>\n",
       "      <th>Vehicle_condition</th>\n",
       "      <th>Type_of_order</th>\n",
       "      <th>Type_of_vehicle</th>\n",
       "      <th>multiple_deliveries</th>\n",
       "      <th>Festival</th>\n",
       "      <th>City</th>\n",
       "      <th>Time_taken (min)</th>\n",
       "    </tr>\n",
       "  </thead>\n",
       "  <tbody>\n",
       "    <tr>\n",
       "      <th>116</th>\n",
       "      <td>23.0</td>\n",
       "      <td>4.9</td>\n",
       "      <td>11.000762</td>\n",
       "      <td>76.981876</td>\n",
       "      <td>11.130762</td>\n",
       "      <td>77.111876</td>\n",
       "      <td>18-03-2022</td>\n",
       "      <td>1</td>\n",
       "      <td>24:15:00</td>\n",
       "      <td>Windy</td>\n",
       "      <td>Low</td>\n",
       "      <td>1</td>\n",
       "      <td>Meal</td>\n",
       "      <td>scooter</td>\n",
       "      <td>0.0</td>\n",
       "      <td>No</td>\n",
       "      <td>Metropolitian</td>\n",
       "      <td>18</td>\n",
       "    </tr>\n",
       "    <tr>\n",
       "      <th>599</th>\n",
       "      <td>38.0</td>\n",
       "      <td>4.8</td>\n",
       "      <td>23.234249</td>\n",
       "      <td>77.434007</td>\n",
       "      <td>23.294249</td>\n",
       "      <td>77.494007</td>\n",
       "      <td>11-02-2022</td>\n",
       "      <td>1</td>\n",
       "      <td>24:10:00</td>\n",
       "      <td>Fog</td>\n",
       "      <td>Low</td>\n",
       "      <td>1</td>\n",
       "      <td>Meal</td>\n",
       "      <td>scooter</td>\n",
       "      <td>1.0</td>\n",
       "      <td>No</td>\n",
       "      <td>Urban</td>\n",
       "      <td>17</td>\n",
       "    </tr>\n",
       "    <tr>\n",
       "      <th>696</th>\n",
       "      <td>39.0</td>\n",
       "      <td>4.5</td>\n",
       "      <td>17.431477</td>\n",
       "      <td>78.400350</td>\n",
       "      <td>17.521477</td>\n",
       "      <td>78.490350</td>\n",
       "      <td>02-03-2022</td>\n",
       "      <td>1</td>\n",
       "      <td>24:05:00</td>\n",
       "      <td>Fog</td>\n",
       "      <td>Low</td>\n",
       "      <td>2</td>\n",
       "      <td>Drinks</td>\n",
       "      <td>motorcycle</td>\n",
       "      <td>0.0</td>\n",
       "      <td>No</td>\n",
       "      <td>Metropolitian</td>\n",
       "      <td>37</td>\n",
       "    </tr>\n",
       "    <tr>\n",
       "      <th>825</th>\n",
       "      <td>33.0</td>\n",
       "      <td>4.7</td>\n",
       "      <td>13.029780</td>\n",
       "      <td>80.208812</td>\n",
       "      <td>13.059780</td>\n",
       "      <td>80.238812</td>\n",
       "      <td>09-03-2022</td>\n",
       "      <td>1</td>\n",
       "      <td>24:15:00</td>\n",
       "      <td>Sunny</td>\n",
       "      <td>Low</td>\n",
       "      <td>2</td>\n",
       "      <td>Drinks</td>\n",
       "      <td>scooter</td>\n",
       "      <td>0.0</td>\n",
       "      <td>No</td>\n",
       "      <td>Metropolitian</td>\n",
       "      <td>10</td>\n",
       "    </tr>\n",
       "    <tr>\n",
       "      <th>886</th>\n",
       "      <td>25.0</td>\n",
       "      <td>4.7</td>\n",
       "      <td>19.866969</td>\n",
       "      <td>75.318894</td>\n",
       "      <td>19.916969</td>\n",
       "      <td>75.368894</td>\n",
       "      <td>13-02-2022</td>\n",
       "      <td>1</td>\n",
       "      <td>24:10:00</td>\n",
       "      <td>Sandstorms</td>\n",
       "      <td>Low</td>\n",
       "      <td>1</td>\n",
       "      <td>Snack</td>\n",
       "      <td>scooter</td>\n",
       "      <td>1.0</td>\n",
       "      <td>No</td>\n",
       "      <td>Urban</td>\n",
       "      <td>19</td>\n",
       "    </tr>\n",
       "    <tr>\n",
       "      <th>...</th>\n",
       "      <td>...</td>\n",
       "      <td>...</td>\n",
       "      <td>...</td>\n",
       "      <td>...</td>\n",
       "      <td>...</td>\n",
       "      <td>...</td>\n",
       "      <td>...</td>\n",
       "      <td>...</td>\n",
       "      <td>...</td>\n",
       "      <td>...</td>\n",
       "      <td>...</td>\n",
       "      <td>...</td>\n",
       "      <td>...</td>\n",
       "      <td>...</td>\n",
       "      <td>...</td>\n",
       "      <td>...</td>\n",
       "      <td>...</td>\n",
       "      <td>...</td>\n",
       "    </tr>\n",
       "    <tr>\n",
       "      <th>45076</th>\n",
       "      <td>26.0</td>\n",
       "      <td>5.0</td>\n",
       "      <td>9.985497</td>\n",
       "      <td>76.276999</td>\n",
       "      <td>10.095497</td>\n",
       "      <td>76.386999</td>\n",
       "      <td>16-02-2022</td>\n",
       "      <td>1</td>\n",
       "      <td>24:05:00</td>\n",
       "      <td>Fog</td>\n",
       "      <td>Low</td>\n",
       "      <td>2</td>\n",
       "      <td>Meal</td>\n",
       "      <td>motorcycle</td>\n",
       "      <td>0.0</td>\n",
       "      <td>No</td>\n",
       "      <td>Metropolitian</td>\n",
       "      <td>29</td>\n",
       "    </tr>\n",
       "    <tr>\n",
       "      <th>45095</th>\n",
       "      <td>32.0</td>\n",
       "      <td>4.8</td>\n",
       "      <td>26.891191</td>\n",
       "      <td>75.802083</td>\n",
       "      <td>26.971191</td>\n",
       "      <td>75.882083</td>\n",
       "      <td>02-03-2022</td>\n",
       "      <td>1</td>\n",
       "      <td>24:05:00</td>\n",
       "      <td>Cloudy</td>\n",
       "      <td>Low</td>\n",
       "      <td>0</td>\n",
       "      <td>Drinks</td>\n",
       "      <td>motorcycle</td>\n",
       "      <td>1.0</td>\n",
       "      <td>No</td>\n",
       "      <td>Metropolitian</td>\n",
       "      <td>41</td>\n",
       "    </tr>\n",
       "    <tr>\n",
       "      <th>45163</th>\n",
       "      <td>27.0</td>\n",
       "      <td>4.6</td>\n",
       "      <td>12.321214</td>\n",
       "      <td>76.621094</td>\n",
       "      <td>12.451214</td>\n",
       "      <td>76.751094</td>\n",
       "      <td>04-03-2022</td>\n",
       "      <td>1</td>\n",
       "      <td>24:05:00</td>\n",
       "      <td>Windy</td>\n",
       "      <td>Low</td>\n",
       "      <td>0</td>\n",
       "      <td>Buffet</td>\n",
       "      <td>motorcycle</td>\n",
       "      <td>0.0</td>\n",
       "      <td>No</td>\n",
       "      <td>Metropolitian</td>\n",
       "      <td>18</td>\n",
       "    </tr>\n",
       "    <tr>\n",
       "      <th>45487</th>\n",
       "      <td>37.0</td>\n",
       "      <td>4.9</td>\n",
       "      <td>13.044694</td>\n",
       "      <td>80.261470</td>\n",
       "      <td>13.094694</td>\n",
       "      <td>80.311470</td>\n",
       "      <td>26-03-2022</td>\n",
       "      <td>1</td>\n",
       "      <td>24:15:00</td>\n",
       "      <td>Sunny</td>\n",
       "      <td>Low</td>\n",
       "      <td>2</td>\n",
       "      <td>Snack</td>\n",
       "      <td>scooter</td>\n",
       "      <td>1.0</td>\n",
       "      <td>No</td>\n",
       "      <td>NaN</td>\n",
       "      <td>12</td>\n",
       "    </tr>\n",
       "    <tr>\n",
       "      <th>45522</th>\n",
       "      <td>32.0</td>\n",
       "      <td>4.8</td>\n",
       "      <td>0.000000</td>\n",
       "      <td>0.000000</td>\n",
       "      <td>0.130000</td>\n",
       "      <td>0.130000</td>\n",
       "      <td>10-03-2022</td>\n",
       "      <td>1</td>\n",
       "      <td>24:10:00</td>\n",
       "      <td>Windy</td>\n",
       "      <td>Low</td>\n",
       "      <td>0</td>\n",
       "      <td>Snack</td>\n",
       "      <td>motorcycle</td>\n",
       "      <td>1.0</td>\n",
       "      <td>No</td>\n",
       "      <td>Urban</td>\n",
       "      <td>22</td>\n",
       "    </tr>\n",
       "  </tbody>\n",
       "</table>\n",
       "<p>430 rows × 18 columns</p>\n",
       "</div>"
      ],
      "text/plain": [
       "       Delivery_person_Age  Delivery_person_Ratings  Restaurant_latitude  \\\n",
       "116                   23.0                      4.9            11.000762   \n",
       "599                   38.0                      4.8            23.234249   \n",
       "696                   39.0                      4.5            17.431477   \n",
       "825                   33.0                      4.7            13.029780   \n",
       "886                   25.0                      4.7            19.866969   \n",
       "...                    ...                      ...                  ...   \n",
       "45076                 26.0                      5.0             9.985497   \n",
       "45095                 32.0                      4.8            26.891191   \n",
       "45163                 27.0                      4.6            12.321214   \n",
       "45487                 37.0                      4.9            13.044694   \n",
       "45522                 32.0                      4.8             0.000000   \n",
       "\n",
       "       Restaurant_longitude  Delivery_location_latitude  \\\n",
       "116               76.981876                   11.130762   \n",
       "599               77.434007                   23.294249   \n",
       "696               78.400350                   17.521477   \n",
       "825               80.208812                   13.059780   \n",
       "886               75.318894                   19.916969   \n",
       "...                     ...                         ...   \n",
       "45076             76.276999                   10.095497   \n",
       "45095             75.802083                   26.971191   \n",
       "45163             76.621094                   12.451214   \n",
       "45487             80.261470                   13.094694   \n",
       "45522              0.000000                    0.130000   \n",
       "\n",
       "       Delivery_location_longitude  Order_Date Time_Orderd Time_Order_picked  \\\n",
       "116                      77.111876  18-03-2022           1          24:15:00   \n",
       "599                      77.494007  11-02-2022           1          24:10:00   \n",
       "696                      78.490350  02-03-2022           1          24:05:00   \n",
       "825                      80.238812  09-03-2022           1          24:15:00   \n",
       "886                      75.368894  13-02-2022           1          24:10:00   \n",
       "...                            ...         ...         ...               ...   \n",
       "45076                    76.386999  16-02-2022           1          24:05:00   \n",
       "45095                    75.882083  02-03-2022           1          24:05:00   \n",
       "45163                    76.751094  04-03-2022           1          24:05:00   \n",
       "45487                    80.311470  26-03-2022           1          24:15:00   \n",
       "45522                     0.130000  10-03-2022           1          24:10:00   \n",
       "\n",
       "      Weather_conditions Road_traffic_density  Vehicle_condition  \\\n",
       "116                Windy                  Low                  1   \n",
       "599                  Fog                  Low                  1   \n",
       "696                  Fog                  Low                  2   \n",
       "825                Sunny                  Low                  2   \n",
       "886           Sandstorms                  Low                  1   \n",
       "...                  ...                  ...                ...   \n",
       "45076                Fog                  Low                  2   \n",
       "45095             Cloudy                  Low                  0   \n",
       "45163              Windy                  Low                  0   \n",
       "45487              Sunny                  Low                  2   \n",
       "45522              Windy                  Low                  0   \n",
       "\n",
       "      Type_of_order Type_of_vehicle  multiple_deliveries Festival  \\\n",
       "116            Meal         scooter                  0.0       No   \n",
       "599            Meal         scooter                  1.0       No   \n",
       "696          Drinks      motorcycle                  0.0       No   \n",
       "825          Drinks         scooter                  0.0       No   \n",
       "886           Snack         scooter                  1.0       No   \n",
       "...             ...             ...                  ...      ...   \n",
       "45076          Meal      motorcycle                  0.0       No   \n",
       "45095        Drinks      motorcycle                  1.0       No   \n",
       "45163        Buffet      motorcycle                  0.0       No   \n",
       "45487         Snack         scooter                  1.0       No   \n",
       "45522         Snack      motorcycle                  1.0       No   \n",
       "\n",
       "                City  Time_taken (min)  \n",
       "116    Metropolitian                18  \n",
       "599            Urban                17  \n",
       "696    Metropolitian                37  \n",
       "825    Metropolitian                10  \n",
       "886            Urban                19  \n",
       "...              ...               ...  \n",
       "45076  Metropolitian                29  \n",
       "45095  Metropolitian                41  \n",
       "45163  Metropolitian                18  \n",
       "45487            NaN                12  \n",
       "45522          Urban                22  \n",
       "\n",
       "[430 rows x 18 columns]"
      ]
     },
     "execution_count": 187,
     "metadata": {},
     "output_type": "execute_result"
    }
   ],
   "source": [
    "df[df['Time_Orderd']=='1']"
   ]
  },
  {
   "cell_type": "code",
   "execution_count": 160,
   "metadata": {},
   "outputs": [
    {
     "data": {
      "text/plain": [
       "dtype('O')"
      ]
     },
     "execution_count": 160,
     "metadata": {},
     "output_type": "execute_result"
    }
   ],
   "source": [
    "df['Time_Orderd'].dtype"
   ]
  },
  {
   "cell_type": "code",
   "execution_count": 196,
   "metadata": {},
   "outputs": [
    {
     "name": "stdout",
     "output_type": "stream",
     "text": [
      "1:00:00\n"
     ]
    }
   ],
   "source": [
    "import datetime\n",
    "time = 1\n",
    "result = str(datetime.timedelta(hours=time))\n",
    "print(result)"
   ]
  },
  {
   "cell_type": "code",
   "execution_count": 156,
   "metadata": {},
   "outputs": [],
   "source": [
    "f= {\n",
    "    'a': ['00:12:10', '00:10:12','0.97867868']\n",
    "}"
   ]
  },
  {
   "cell_type": "code",
   "execution_count": 169,
   "metadata": {},
   "outputs": [
    {
     "name": "stderr",
     "output_type": "stream",
     "text": [
      "C:\\Users\\fhrt8\\AppData\\Local\\Temp\\ipykernel_5572\\3657407023.py:2: UserWarning: The argument 'infer_datetime_format' is deprecated and will be removed in a future version. A strict version of it is now the default, see https://pandas.pydata.org/pdeps/0004-consistent-to-datetime-parsing.html. You can safely remove this argument.\n",
      "  d=pd.to_datetime(f['a'],infer_datetime_format=True)\n",
      "C:\\Users\\fhrt8\\AppData\\Local\\Temp\\ipykernel_5572\\3657407023.py:2: UserWarning: Could not infer format, so each element will be parsed individually, falling back to `dateutil`. To ensure parsing is consistent and as-expected, please specify a format.\n",
      "  d=pd.to_datetime(f['a'],infer_datetime_format=True)\n"
     ]
    },
    {
     "ename": "DateParseError",
     "evalue": "day is out of range for month: 0.97867868, at position 2",
     "output_type": "error",
     "traceback": [
      "\u001b[1;31m---------------------------------------------------------------------------\u001b[0m",
      "\u001b[1;31mValueError\u001b[0m                                Traceback (most recent call last)",
      "File \u001b[1;32mc:\\Users\\fhrt8\\FoodDelivery\\venv2\\lib\\site-packages\\pandas\\_libs\\tslibs\\parsing.pyx:679\u001b[0m, in \u001b[0;36mpandas._libs.tslibs.parsing.dateutil_parse\u001b[1;34m()\u001b[0m\n",
      "\u001b[1;31mValueError\u001b[0m: day is out of range for month",
      "\nThe above exception was the direct cause of the following exception:\n",
      "\u001b[1;31mDateParseError\u001b[0m                            Traceback (most recent call last)",
      "Cell \u001b[1;32mIn[169], line 2\u001b[0m\n\u001b[0;32m      1\u001b[0m \u001b[39mfrom\u001b[39;00m \u001b[39mdatetime\u001b[39;00m \u001b[39mimport\u001b[39;00m datetime\n\u001b[1;32m----> 2\u001b[0m d\u001b[39m=\u001b[39mpd\u001b[39m.\u001b[39;49mto_datetime(f[\u001b[39m'\u001b[39;49m\u001b[39ma\u001b[39;49m\u001b[39m'\u001b[39;49m],infer_datetime_format\u001b[39m=\u001b[39;49m\u001b[39mTrue\u001b[39;49;00m)\n",
      "File \u001b[1;32mc:\\Users\\fhrt8\\FoodDelivery\\venv2\\lib\\site-packages\\pandas\\core\\tools\\datetimes.py:1082\u001b[0m, in \u001b[0;36mto_datetime\u001b[1;34m(arg, errors, dayfirst, yearfirst, utc, format, exact, unit, infer_datetime_format, origin, cache)\u001b[0m\n\u001b[0;32m   1080\u001b[0m         result \u001b[39m=\u001b[39m _convert_and_box_cache(argc, cache_array)\n\u001b[0;32m   1081\u001b[0m     \u001b[39melse\u001b[39;00m:\n\u001b[1;32m-> 1082\u001b[0m         result \u001b[39m=\u001b[39m convert_listlike(argc, \u001b[39mformat\u001b[39;49m)\n\u001b[0;32m   1083\u001b[0m \u001b[39melse\u001b[39;00m:\n\u001b[0;32m   1084\u001b[0m     result \u001b[39m=\u001b[39m convert_listlike(np\u001b[39m.\u001b[39marray([arg]), \u001b[39mformat\u001b[39m)[\u001b[39m0\u001b[39m]\n",
      "File \u001b[1;32mc:\\Users\\fhrt8\\FoodDelivery\\venv2\\lib\\site-packages\\pandas\\core\\tools\\datetimes.py:455\u001b[0m, in \u001b[0;36m_convert_listlike_datetimes\u001b[1;34m(arg, format, name, utc, unit, errors, dayfirst, yearfirst, exact)\u001b[0m\n\u001b[0;32m    452\u001b[0m \u001b[39mif\u001b[39;00m \u001b[39mformat\u001b[39m \u001b[39mis\u001b[39;00m \u001b[39mnot\u001b[39;00m \u001b[39mNone\u001b[39;00m \u001b[39mand\u001b[39;00m \u001b[39mformat\u001b[39m \u001b[39m!=\u001b[39m \u001b[39m\"\u001b[39m\u001b[39mmixed\u001b[39m\u001b[39m\"\u001b[39m:\n\u001b[0;32m    453\u001b[0m     \u001b[39mreturn\u001b[39;00m _array_strptime_with_fallback(arg, name, utc, \u001b[39mformat\u001b[39m, exact, errors)\n\u001b[1;32m--> 455\u001b[0m result, tz_parsed \u001b[39m=\u001b[39m objects_to_datetime64ns(\n\u001b[0;32m    456\u001b[0m     arg,\n\u001b[0;32m    457\u001b[0m     dayfirst\u001b[39m=\u001b[39;49mdayfirst,\n\u001b[0;32m    458\u001b[0m     yearfirst\u001b[39m=\u001b[39;49myearfirst,\n\u001b[0;32m    459\u001b[0m     utc\u001b[39m=\u001b[39;49mutc,\n\u001b[0;32m    460\u001b[0m     errors\u001b[39m=\u001b[39;49merrors,\n\u001b[0;32m    461\u001b[0m     allow_object\u001b[39m=\u001b[39;49m\u001b[39mTrue\u001b[39;49;00m,\n\u001b[0;32m    462\u001b[0m )\n\u001b[0;32m    464\u001b[0m \u001b[39mif\u001b[39;00m tz_parsed \u001b[39mis\u001b[39;00m \u001b[39mnot\u001b[39;00m \u001b[39mNone\u001b[39;00m:\n\u001b[0;32m    465\u001b[0m     \u001b[39m# We can take a shortcut since the datetime64 numpy array\u001b[39;00m\n\u001b[0;32m    466\u001b[0m     \u001b[39m# is in UTC\u001b[39;00m\n\u001b[0;32m    467\u001b[0m     dta \u001b[39m=\u001b[39m DatetimeArray(result, dtype\u001b[39m=\u001b[39mtz_to_dtype(tz_parsed))\n",
      "File \u001b[1;32mc:\\Users\\fhrt8\\FoodDelivery\\venv2\\lib\\site-packages\\pandas\\core\\arrays\\datetimes.py:2177\u001b[0m, in \u001b[0;36mobjects_to_datetime64ns\u001b[1;34m(data, dayfirst, yearfirst, utc, errors, allow_object)\u001b[0m\n\u001b[0;32m   2174\u001b[0m \u001b[39m# if str-dtype, convert\u001b[39;00m\n\u001b[0;32m   2175\u001b[0m data \u001b[39m=\u001b[39m np\u001b[39m.\u001b[39marray(data, copy\u001b[39m=\u001b[39m\u001b[39mFalse\u001b[39;00m, dtype\u001b[39m=\u001b[39mnp\u001b[39m.\u001b[39mobject_)\n\u001b[1;32m-> 2177\u001b[0m result, tz_parsed \u001b[39m=\u001b[39m tslib\u001b[39m.\u001b[39;49marray_to_datetime(\n\u001b[0;32m   2178\u001b[0m     data,\n\u001b[0;32m   2179\u001b[0m     errors\u001b[39m=\u001b[39;49merrors,\n\u001b[0;32m   2180\u001b[0m     utc\u001b[39m=\u001b[39;49mutc,\n\u001b[0;32m   2181\u001b[0m     dayfirst\u001b[39m=\u001b[39;49mdayfirst,\n\u001b[0;32m   2182\u001b[0m     yearfirst\u001b[39m=\u001b[39;49myearfirst,\n\u001b[0;32m   2183\u001b[0m )\n\u001b[0;32m   2185\u001b[0m \u001b[39mif\u001b[39;00m tz_parsed \u001b[39mis\u001b[39;00m \u001b[39mnot\u001b[39;00m \u001b[39mNone\u001b[39;00m:\n\u001b[0;32m   2186\u001b[0m     \u001b[39m# We can take a shortcut since the datetime64 numpy array\u001b[39;00m\n\u001b[0;32m   2187\u001b[0m     \u001b[39m#  is in UTC\u001b[39;00m\n\u001b[0;32m   2188\u001b[0m     \u001b[39m# Return i8 values to denote unix timestamps\u001b[39;00m\n\u001b[0;32m   2189\u001b[0m     \u001b[39mreturn\u001b[39;00m result\u001b[39m.\u001b[39mview(\u001b[39m\"\u001b[39m\u001b[39mi8\u001b[39m\u001b[39m\"\u001b[39m), tz_parsed\n",
      "File \u001b[1;32mc:\\Users\\fhrt8\\FoodDelivery\\venv2\\lib\\site-packages\\pandas\\_libs\\tslib.pyx:402\u001b[0m, in \u001b[0;36mpandas._libs.tslib.array_to_datetime\u001b[1;34m()\u001b[0m\n",
      "File \u001b[1;32mc:\\Users\\fhrt8\\FoodDelivery\\venv2\\lib\\site-packages\\pandas\\_libs\\tslib.pyx:551\u001b[0m, in \u001b[0;36mpandas._libs.tslib.array_to_datetime\u001b[1;34m()\u001b[0m\n",
      "File \u001b[1;32mc:\\Users\\fhrt8\\FoodDelivery\\venv2\\lib\\site-packages\\pandas\\_libs\\tslib.pyx:516\u001b[0m, in \u001b[0;36mpandas._libs.tslib.array_to_datetime\u001b[1;34m()\u001b[0m\n",
      "File \u001b[1;32mc:\\Users\\fhrt8\\FoodDelivery\\venv2\\lib\\site-packages\\pandas\\_libs\\tslibs\\conversion.pyx:557\u001b[0m, in \u001b[0;36mpandas._libs.tslibs.conversion.convert_str_to_tsobject\u001b[1;34m()\u001b[0m\n",
      "File \u001b[1;32mc:\\Users\\fhrt8\\FoodDelivery\\venv2\\lib\\site-packages\\pandas\\_libs\\tslibs\\parsing.pyx:329\u001b[0m, in \u001b[0;36mpandas._libs.tslibs.parsing.parse_datetime_string\u001b[1;34m()\u001b[0m\n",
      "File \u001b[1;32mc:\\Users\\fhrt8\\FoodDelivery\\venv2\\lib\\site-packages\\pandas\\_libs\\tslibs\\parsing.pyx:683\u001b[0m, in \u001b[0;36mpandas._libs.tslibs.parsing.dateutil_parse\u001b[1;34m()\u001b[0m\n",
      "\u001b[1;31mDateParseError\u001b[0m: day is out of range for month: 0.97867868, at position 2"
     ]
    }
   ],
   "source": [
    "from datetime import datetime\n",
    "d=pd.to_datetime(f['a'],infer_datetime_format=True)"
   ]
  },
  {
   "cell_type": "code",
   "execution_count": 161,
   "metadata": {},
   "outputs": [
    {
     "data": {
      "text/plain": [
       "0         NaN\n",
       "1         NaN\n",
       "2    97867868\n",
       "Name: a, dtype: object"
      ]
     },
     "execution_count": 161,
     "metadata": {},
     "output_type": "execute_result"
    }
   ],
   "source": [
    "(d['a']).str.split('.').str[1]"
   ]
  },
  {
   "cell_type": "code",
   "execution_count": null,
   "metadata": {},
   "outputs": [],
   "source": []
  }
 ],
 "metadata": {
  "kernelspec": {
   "display_name": "Python 3",
   "language": "python",
   "name": "python3"
  },
  "language_info": {
   "codemirror_mode": {
    "name": "ipython",
    "version": 3
   },
   "file_extension": ".py",
   "mimetype": "text/x-python",
   "name": "python",
   "nbconvert_exporter": "python",
   "pygments_lexer": "ipython3",
   "version": "3.8.0"
  },
  "orig_nbformat": 4
 },
 "nbformat": 4,
 "nbformat_minor": 2
}
